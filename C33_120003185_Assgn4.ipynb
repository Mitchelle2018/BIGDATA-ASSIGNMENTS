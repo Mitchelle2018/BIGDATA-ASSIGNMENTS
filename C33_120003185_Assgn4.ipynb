

BIG DATA ANALYTICS ASSIGNMENT WEEK 4

Turned in by, MITCHELLE FLAVIA JEROME 120003185 4 CSE C 33

1 a)The Jaccard Distance between two sets(say, A and B) can be calculated by these steps,

    Compute the Jaccard Index which is A.intersection(B) / A.union(B)
    Subtract the Jaccard Index from 1 to get the Jaccard Distance.

A=(1,1,0,1,1,0,1,1)
B=(0,1,1,1,1,1,1,0)
C=(1,0,1,1,0,1,1,1)

def findInter(s1,s2):
    inter=0
    for i in range(len(s1)):
        if(s1[i]==s2[i]==1):
            inter=inter+1
    return inter        
def findUnion(s1,s2):
    union=0
    for i in range(len(s1)):
        if(s1[i]==1 or s2[i]==1):
            union=union+1
    return union

in1=findInter(A,B)
un=findUnion(A,B)
print(in1)
print(un)
jacind=in1/un
jacdist=1-jacind
print("Jaccard Distance between A and B is "+str(jacind))

in1=findInter(B,C)
un=findUnion(B,C)
print(in1)
print(un)
jacind=in1/un
jacdist=1-jacind
print("Jaccard Distance between B and C is "+str(jacind))

in1=findInter(A,C)
un=findUnion(A,C)
print(in1)
print(un)
jacind=in1/un
jacdist=1-jacind
print("Jaccard Distance between A and C is "+str(jacind))

4
8
Jaccard Distance between A and B is 0.5
4
8
Jaccard Distance between B and C is 0.5
4
8
Jaccard Distance between A and C is 0.5

1 b)The Cosine Distance between say, A and B is calculated by the following steps,

    Find the dot product of A and B.
    Calculate the square root of the dot product of A and A.
    The Square root of the dot product of B and B.
    Multiply the dot products of steps 2 and 3.
    Divide the dot product of A and B by step 4's result.


import math
A=(1,1,0,1,1,0,1,1)
B=(0,1,1,1,1,1,1,0)
C=(1,0,1,1,0,1,1,1)

def findDot(s1,s2):
    dot=0;
    for i in range(len(s1)):
        dot+=s1[i]*s2[i]
    return dot

num=findDot(A,B)
den=math.sqrt(findDot(A,A))* math.sqrt(findDot(B,B))
print("The Cosine Distance between A and B is "+str(num/den))

num=findDot(B,C)
den=math.sqrt(findDot(C,C))* math.sqrt(findDot(B,B))
print("The Cosine Distance between B and C is "+str(num/den))

num=findDot(A,C)
den=math.sqrt(findDot(A,A))* math.sqrt(findDot(C,C))
print("The Cosine Distance between A and C is "+str(num/den))

The Cosine Distance between A and B is 0.6666666666666667
The Cosine Distance between B and C is 0.6666666666666667
The Cosine Distance between A and C is 0.6666666666666667

1 c) Same Procedure but the input changes due to 3,4,5 ratings getting values 1 and the rest 0

A=(1,1,0,1,0,0,1,0)
B=(0,1,1,1,0,0,0,0)
C=(0,0,0,1,0,1,1,1)

in1=findInter(A,B)
un=findUnion(A,B)
print(in1)
print(un)
jacind=in1/un
jacdist=1-jacind
print("Jaccard Distance between A and B is "+str(jacind))

in1=findInter(B,C)
un=findUnion(B,C)
print(in1)
print(un)
jacind=in1/un
jacdist=1-jacind
print("Jaccard Distance between B and C is "+str(jacind))

in1=findInter(A,C)
un=findUnion(A,C)
print(in1)
print(un)
jacind=in1/un
jacdist=1-jacind
print("Jaccard Distance between A and C is "+str(jacind))

2
5
Jaccard Distance between A and B is 0.4
1
6
Jaccard Distance between B and C is 0.16666666666666666
2
6
Jaccard Distance between A and C is 0.3333333333333333

1 d) The Cosine Distance procedure is the same but for the changed input.

import math
A=(1,1,0,1,0,0,1,0)
B=(0,1,1,1,0,0,0,0)
C=(0,0,0,1,0,1,1,1)

num=findDot(A,B)
den=math.sqrt(findDot(A,A))* math.sqrt(findDot(B,B))
print("The Cosine Distance between A and B is "+str(num/den))

num=findDot(B,C)
den=math.sqrt(findDot(C,C))* math.sqrt(findDot(B,B))
print("The Cosine Distance between B and C is "+str(num/den))

num=findDot(A,C)
den=math.sqrt(findDot(A,A))* math.sqrt(findDot(C,C))
print("The Cosine Distance between A and C is "+str(num/den))

The Cosine Distance between A and B is 0.5773502691896258
The Cosine Distance between B and C is 0.2886751345948129
The Cosine Distance between A and C is 0.5

1 e) Normalizing the matrix by finding the average of each user's ratings and then subtracting that from the non zero ratings.

A=[4,5,0,5,1,0,3,2]
B=[0,3,4,3,1,2,1,0]
C=[2,0,1,3,0,4,5,3]

def findAvg(s1):
    avg=0;
    for i in range(len(s1)):
        avg+=s1[i]
    avg=avg/len(s1)
    return avg

def repList(s1):
    l=list()
    for i in s1:
        if(i is not 0):
            l.append(i-findAvg(s1))
        else:
            l.append(0)
    return l

A=repList(A)
B=repList(B)
C=repList(C)
print(A)
print(B)
print(C)

[1.5, 2.5, 0, 2.5, -1.5, 0, 0.5, -0.5]
[0, 1.25, 2.25, 1.25, -0.75, 0.25, -0.75, 0]
[-0.25, 0, -1.25, 0.75, 0, 1.75, 2.75, 0.75]

1 f) Computing the Cosine Distance between each set with the normalized sets from the previous step.


import math
A=(1.5, 2.5, 0, 2.5, -1.5, 0, 0.5, -0.5)
B=(0, 1.25, 2.25, 1.25, -0.75, 0.25, -0.75, 0)
C=(-0.25, 0, -1.25, 0.75, 0, 1.75, 2.75, 0.75)
num=findDot(A,B)
den=math.sqrt(findDot(A,A))* math.sqrt(findDot(B,B))
print("The Cosine Distance between A and B is "+str(num/den))

num=findDot(B,C)
den=math.sqrt(findDot(C,C))* math.sqrt(findDot(B,B))
print("The Cosine Distance between B and C is "+str(num/den))

num=findDot(A,C)
den=math.sqrt(findDot(A,A))* math.sqrt(findDot(C,C))
print("The Cosine Distance between A and C is "+str(num/den))

The Cosine Distance between A and B is 0.5465040408511785
The Cosine Distance between B and C is -0.31256152042413066
The Cosine Distance between A and C is 0.16340829138365012

2) Based on the user profiles of Users 200 and 15, the recommender system is supposed to determine which of these users to suggest the movie with ID 95, "The Aladdin (1992)". The code mentioned below builds the profiles, calculates ratings, finds the user who is most likely to enjoy the movie.


import pandas as pd
dat=pd.read_csv('C:/Users/Titan/Documents/Pooja_programs/DA Project/assign.csv')
df1=pd.read_csv('C:/Users/Titan/Documents/Pooja_programs/DA Project/assign1.csv')
movie_choice=pd.DataFrame(df1.loc[94,::])
movie_choice.head(n=10)
df1.index+=1
df1.head()
movies_index=df1.MovieID
genres=df1.columns
genres=genres[5:]
genre_values=df1.values
dat200=pd.DataFrame(dat.loc[dat['UserID']==200])
user200r=dat200.Rating
user200i=dat200.ItemID
dat200.head(n=10)

Out[8]:
	UserID 	ItemID 	Rating 	Timestamp
12 	200 	222 	5 	876042340
189 	200 	673 	5 	884128554
243 	200 	318 	5 	884128458
326 	200 	304 	5 	876041644
367 	200 	96 	5 	884129409
503 	200 	365 	5 	884129962
692 	200 	11 	5 	884129542
1129 	200 	892 	4 	884127082
1285 	200 	588 	5 	884128499
1490 	200 	478 	5 	884128788
In [9]:

dat15=pd.DataFrame(dat.loc[dat['UserID']==15])
user15r=dat15.Rating
user15i=dat15.ItemID
dat15.head(n=10)

Out[9]:
	UserID 	ItemID 	Rating 	Timestamp
206 	15 	405 	2 	879455957
642 	15 	749 	1 	879455311
708 	15 	25 	3 	879456204
1208 	15 	331 	3 	879455166
1365 	15 	222 	3 	879455730
2207 	15 	473 	1 	879456204
2241 	15 	678 	1 	879455311
2461 	15 	932 	1 	879456465
2464 	15 	127 	2 	879455505
2649 	15 	685 	4 	879456288
In [10]:

def findAvg(s1):
    avg=0;
    for i in range(len(s1)):
        avg+=s1[i]
    avg=avg/len(s1)
    return avg

def findRatings(s1,s2):
    l=[0]*18
    m=list(s2)
    rind=0
    for i in s1:
        pos=0
        j=m[rind]*genre_values[i]
        j=j[5:]
        for ind in j:
            l[pos]+=ind
            pos+=1
        rind+=1
            
            
    
    avg=findAvg(l)

    for i in range(18):
        l[i]/=avg
        l[i]=round(l[i],2)
    return l

In [24]:

user200r=dat200.Rating
user200i=dat200.ItemID
user15r=dat15.Rating
user15i=dat15.ItemID

user200sum=findRatings(user200i,user200r)
user15sum=findRatings(user15i,user15r)

print("User 200's Ratings : "+str(user200sum))
print("User 15's Ratings  : "+str(user15sum))
goal_movie=genre_values[94]
goal_movie=goal_movie[5:]

num=findDot(user200sum,goal_movie)
den=math.sqrt(findDot(user200sum,user200sum))* math.sqrt(findDot(goal_movie,goal_movie))
print("The Cosine Distance between User200 and Movie Number 95 : The Aladdin is "+str(num/den))

num=findDot(user15sum,goal_movie)
den=math.sqrt(findDot(user15sum,user15sum))* math.sqrt(findDot(goal_movie,goal_movie))
print("The Cosine Distance between User15 and Movie Number 95  : The Aladdin is "+str(num/den))

User 200's Ratings : [2.12, 1.28, 0.37, 0.77, 3.09, 0.54, 0.11, 3.01, 0.2, 0.11, 0.6, 0.48, 0.3, 1.18, 1.01, 1.57, 0.84, 0.41]
User 15's Ratings  : [1.4, 0.82, 0.09, 0.91, 2.19, 1.01, 0.15, 4.45, 0.3, 0.24, 0.37, 0.18, 0.4, 1.58, 0.91, 2.1, 0.61, 0.27]
The Cosine Distance between User200 and Movie Number 95 : The Aladdin is 0.4146403090399625
The Cosine Distance between User15 and Movie Number 95  : The Aladdin is 0.27418788454906295

Based on the Cosine Distance values, User 200 might enjoy "The Aladdin" more than User 15, so the Recommender would suggest this movie to User 200.

3) Perform Item Based Collaborative Filtering depending on the users' age distribution, with the age distribution recommend movies with high cosine similarity values.
In [31]:

speed=(df1.loc[df1['Movie Title']=='Speed (1994)'])
print(speed.MovieID)

568    568
Name: MovieID, dtype: int64

To find the age group of users who enjoyed watching the movie "Speed (1994)", I decided to extract users who have rated the movie 3 and above, meaning they enjoyed it and then found their respective ages with the help of UserIDs.
In [62]:

users_speed=pd.DataFrame(dat.loc[dat['ItemID']==568])
vals=users_speed.values
valid=list()
for i in vals:
    if(i[2]>=3):
        valid.append(i[0])

users_age=pd.read_csv('C:/Users/Titan/Documents/Pooja_programs/DA Project/ass2.csv')
users_age.index+=1
all_ages=users_age.Age
age=list()
for i in valid:
    age.append(all_ages[i])
#print(age)
age15=[]
age20=[]
age30=[]
age40=[]
age50=[]
age60=[]

for i in age:
    if(i<20):
        age15.append(i)
    if(i>=20 and i<30):
        age20.append(i)
    if(i>=30 and i<40):
        age30.append(i)
    if(i>=40 and i<50):
        age40.append(i)
    if(i>=50 and i<60):
        age50.append(i)
    if(i>=60 and i<70):
        age60.append(i)

print("Users younger than 20 : "+str(len(age15)))
print("Users aged 20-30 : "+str(len(age20)))
print("Users aged 30-40 : "+str(len(age30)))
print("Users aged 40-50 : "+str(len(age40)))
print("Users aged 50-60 : "+str(len(age50)))
print("Users aged 60 and above : "+str(len(age60)))

Users younger than 20 : 21
Users aged 20-30 : 88
Users aged 30-40 : 55
Users aged 40-50 : 26
Users aged 50-60 : 9
Users aged 60 and above : 2

It is clear that the target age demographic for "Speed (1994)" is 20-30. In order to find which movies to suggest, I decided to retrieve the movies that people in the age group have watched and those movies with the most reviews and ratings could be recommended to the user who liked Speed.
In [119]:

goal_id=[]
j=0
for i in all_ages:
    j+=1
    if(i>=20 and i<30):
        goal_id.append(j)
#print(goal_id)
movie_id=[]
items=dat.values
for i in goal_id:
    j=items[i]
    movie_id.append(j[0])

The MovieIDs of the movies that might appeal to the users are retrieved and the cosine distance of each of those movies with Speed in the age demographic is calculated and the ones with the highest similarity are stored in res and the corresponding Movie Titles are chosen to be recommended.
In [157]:

smovie=genre_values[567]
smovie=smovie[5:]
cos_vals=[]
for i in movie_id:
    j=genre_values[i]
    j=j[5:]
    num=findDot(smovie,j)
    den=math.sqrt(findDot(j,j))* math.sqrt(findDot(smovie,smovie))
    cos_vals.append(round((num/den),2))
print(cos_vals)

[0.33, 0.58, 0.0, 0.0, 0.29, 0.0, 0.0, 0.82, 0.0, 0.29, 0.82, 0.41, 0.0, 0.0, 0.0, 0.0, 0.41, 0.33, 0.0, 0.0, 0.58, 0.33, 0.0, 0.0, 0.41, 0.41, 0.41, 0.0, 0.0, 0.0, 0.33, 0.0, 0.0, 0.0, 0.82, 0.41, 0.0, 0.0, 0.0, 0.0, 0.41, 0.0, 0.41, 0.0, 0.0, 0.41, 0.33, 0.0, 0.0, 0.58, 0.0, 0.0, 0.82, 0.33, 0.82, 0.82, 0.58, 0.0, 0.0, 0.52, 0.41, 0.41, 0.41, 0.41, 0.41, 0.0, 0.0, 0.0, 0.58, 0.29, 0.33, 0.58, 0.82, 0.0, 0.0, 0.0, 0.82, 0.0, 0.33, 0.41, 0.82, 0.33, 0.0, 0.0, 0.0, 0.0, 0.29, 0.0, 0.0, 0.41, 0.67, 0.0, 0.0, 0.0, 0.0, 0.29, 0.0, 0.41, 0.0, 0.0, 0.0, 0.0, 0.41, 0.41, 0.0, 0.41, 0.29, 0.41, 0.67, 0.33, 0.67, 0.0, 0.52, 0.29, 0.0, 0.0, 0.67, 0.58, 0.0, 0.0, 0.0, 0.0, 0.0, 0.41, 0.67, 0.82, 0.0, 0.0, 0.0, 0.0, 0.33, 0.0, 0.41, 0.0, 0.67, 0.58, 0.29, 0.0, 0.52, 0.29, 0.33, 0.33, 0.82, 0.41, 0.41, 0.29, 0.0, 0.67, 0.29, 0.0, 0.41, 0.0, 0.0, 0.41, 0.0, 0.0, 0.58, 0.0, 0.0, 0.41, 0.41, 0.0, 0.33, 0.0, 0.0, 0.0, 0.0, 0.0, 0.0, 0.67, 0.0, 0.0, 0.0, 0.0, 0.33, 0.0, 0.33, 0.33, 0.0, 0.0, 0.82, 0.82, 0.67, 0.0, 0.0, 0.33, 0.58, 0.41, 0.0, 0.29, 0.0, 0.58, 0.41, 0.0, 0.0, 0.0, 0.58, 0.29, 0.0, 0.58, 0.33, 0.33, 0.41, 0.0, 0.58, 0.33, 0.0, 0.33, 0.41, 0.29, 0.0, 0.0, 0.41, 0.82, 0.41, 0.0, 0.41, 0.41, 0.0, 0.58, 0.0, 0.82, 0.41, 0.41, 0.58, 0.0, 0.67, 0.82, 0.33, 0.41, 0.29, 0.0, 0.0, 0.0, 0.0, 0.0, 0.0, 0.41, 0.0, 0.0, 0.41, 0.29, 0.0, 0.41, 0.29, 0.41, 0.0, 0.41, 0.0, 0.52, 0.0, 0.0, 0.29, 0.0, 0.0, 0.0, 0.0, 0.41, 0.41, 0.0, 0.0, 0.41, 0.82, 0.33, 0.0, 0.41, 0.0, 0.58, 0.29, 0.0, 0.58, 0.0, 0.0, 0.0, 0.0, 0.0, 0.0, 0.0, 0.67, 0.0, 0.67, 0.0, 0.0, 0.58, 0.0, 0.0, 0.67, 0.82, 0.0, 0.41, 0.41, 0.0, 0.0, 0.0, 0.41, 0.0, 0.41, 0.0, 0.67, 0.0, 0.41, 0.0, 0.0, 0.41, 0.0, 0.67, 0.29, 0.41, 0.0, 0.41, 0.41, 0.33, 0.0, 0.52, 0.0, 0.0, 0.41, 0.41, 0.33, 0.82, 0.0, 0.0, 0.33, 0.58, 0.0, 0.0, 0.0, 0.67, 0.0, 0.0, 0.0, 0.0]

In [154]:

res = sorted(range(len(cos_vals)), key = lambda sub: cos_vals[sub])[-3:]
moviet=df1.values
for i in res:
    j=moviet[i]
    print(j[1])

Steel (1997)
Scream (1996)
Paradise Lost: The Child Murders at Robin Hood Hills (1996)

The Recommender would suggest the movies mentioned above.
